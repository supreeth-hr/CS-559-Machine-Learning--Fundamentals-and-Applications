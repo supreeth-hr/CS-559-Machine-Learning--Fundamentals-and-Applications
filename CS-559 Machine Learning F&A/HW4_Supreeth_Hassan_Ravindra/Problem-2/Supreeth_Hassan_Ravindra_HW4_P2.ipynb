{
 "cells": [
  {
   "cell_type": "markdown",
   "id": "8ca4fab6",
   "metadata": {},
   "source": [
    "Name: Supreeth Hassan Ravindra, \n",
    "CWID:20020533,\n",
    "Problem-2: Expectation Maximization"
   ]
  },
  {
   "cell_type": "code",
   "execution_count": 1,
   "id": "9b29d255",
   "metadata": {},
   "outputs": [],
   "source": [
    "#Importing the required libraries\n",
    "import numpy as np\n",
    "import pandas as pd"
   ]
  },
  {
   "cell_type": "code",
   "execution_count": 2,
   "id": "b8655dd7",
   "metadata": {},
   "outputs": [],
   "source": [
    "# This function returns the Gaussian kernel of a sample and the cluster mean with a given variance.\n",
    "def GaussianKernel(x, μ, Σ):\n",
    "   return np.exp((-1/2)* np.dot((x-μ).T, np.dot(np.linalg.inv(Σ), (x-μ))))"
   ]
  },
  {
   "cell_type": "code",
   "execution_count": 3,
   "id": "16d42b74",
   "metadata": {},
   "outputs": [],
   "source": [
    "# This function returns the membership weights of each data point\n",
    "def Expectation(X, k, π, μ, Σ):\n",
    "   r = np.zeros((X.shape[0], k))\n",
    "   for i in range(X.shape[0]):\n",
    "       for j in range(k):\n",
    "           r[i, j] = π[j] * GaussianKernel(X[i], μ[j], Σ[:,:,j])\n",
    "       r[i,:] = r[i,:] / r[i,:].sum()\n",
    "   return r"
   ]
  },
  {
   "cell_type": "code",
   "execution_count": 4,
   "id": "d8a20da9",
   "metadata": {},
   "outputs": [],
   "source": [
    "# This function calculates the new maximum likelihood mean for each Gaussian.\n",
    "def MaximizeMean(X, k, r):\n",
    "   μ = np.zeros((k, X.shape[1]))\n",
    "   for j in range(k):\n",
    "       μ[j] = (r[:,j] @ X) / r[:,j].sum()\n",
    "   return μ"
   ]
  },
  {
   "cell_type": "code",
   "execution_count": 5,
   "id": "9564f065",
   "metadata": {},
   "outputs": [],
   "source": [
    "# This function calculates the new maximum likelihood covariance for each Gaussian.\n",
    "def MaximizeCovariance(X, k, r, μ):\n",
    "   Σ = np.zeros((X.shape[1], X.shape[1], k))\n",
    "   for j in range(k):\n",
    "       Σ[:,:,j] = np.zeros((X.shape[1], X.shape[1]))\n",
    "       for i in range(X.shape[0]):\n",
    "           Σ[:,:,j] += r[i,j] * np.outer((X[i] - μ[j]), (X[i] - μ[j])) / r[:,j].sum()\n",
    "   return Σ"
   ]
  },
  {
   "cell_type": "code",
   "execution_count": 6,
   "id": "43eff168",
   "metadata": {},
   "outputs": [],
   "source": [
    "# This function calculates the new maximum likelihood mixture weight for each Gaussian.\n",
    "def MaximizeMixtures(k, r):\n",
    "   π = r.mean(axis=0)\n",
    "   return π"
   ]
  },
  {
   "cell_type": "code",
   "execution_count": 7,
   "id": "6615c5e4",
   "metadata": {},
   "outputs": [],
   "source": [
    "# This function runs the EM algorithm for nIter steps and returns the parameters of the underlying GMM.\n",
    "def EM(X, k, π0, μ0, Σ0, nIter):\n",
    "   μ = μ0\n",
    "   Σ = Σ0\n",
    "   π = π0\n",
    "   for i in range(nIter):\n",
    "       r = Expectation(X, k, π, μ, Σ)\n",
    "       μ = MaximizeMean(X, k, r)\n",
    "       Σ = MaximizeCovariance(X, k, r, μ)\n",
    "       π = MaximizeMixtures(k, r)\n",
    "   return π, μ, Σ"
   ]
  },
  {
   "cell_type": "code",
   "execution_count": 8,
   "id": "ecd6dd92",
   "metadata": {},
   "outputs": [
    {
     "data": {
      "text/plain": [
       "array([[-6.3670924 , -0.35240556],\n",
       "       [-0.08979119,  1.5166165 ],\n",
       "       [ 0.22860334, -3.4007959 ],\n",
       "       ...,\n",
       "       [-2.5545522 , -4.7181746 ],\n",
       "       [-0.20151563,  2.9328022 ],\n",
       "       [-0.36624411, -3.0872141 ]])"
      ]
     },
     "execution_count": 8,
     "metadata": {},
     "output_type": "execute_result"
    }
   ],
   "source": [
    "# Reading the dataset\n",
    "X = pd.read_csv(\"points.dat.txt\", delim_whitespace=True, header=None).values\n",
    "X"
   ]
  },
  {
   "cell_type": "code",
   "execution_count": 9,
   "id": "9e30232e",
   "metadata": {},
   "outputs": [],
   "source": [
    "# The EM function is called here\n",
    "nIter = 20\n",
    "k = 5\n",
    "π0 = np.ones(k) / k\n",
    "μ0 = X[np.random.choice(X.shape[0], k, replace=False), :]\n",
    "Σ0 = np.zeros((X.shape[1], X.shape[1], k))\n",
    "for i in range(k):\n",
    "   Σ0[:,:,i] = np.eye(X.shape[1])"
   ]
  },
  {
   "cell_type": "code",
   "execution_count": 10,
   "id": "3e4e87d2",
   "metadata": {},
   "outputs": [],
   "source": [
    "π, μ, Σ = EM(X, k, π0, μ0, Σ0, nIter)"
   ]
  },
  {
   "cell_type": "code",
   "execution_count": 11,
   "id": "8613397b",
   "metadata": {},
   "outputs": [
    {
     "name": "stdout",
     "output_type": "stream",
     "text": [
      "Mixture weights:\n",
      "[2.03819972e-09 9.86053065e-01 1.39461334e-02 7.61679723e-07\n",
      " 3.78441495e-08]\n",
      "\n",
      "Means:\n",
      "[[ 4.63267954 -1.45367676]\n",
      " [-0.73252754 -0.57076006]\n",
      " [-7.03546757 -1.39080869]\n",
      " [-0.09307097  2.71263174]\n",
      " [ 0.28336401  1.89995847]]\n",
      "\n",
      "Covariance matrices:\n",
      "[[[ 3.12025309e-02  7.43148587e+00  3.63962145e+00  1.24778615e-01\n",
      "    2.15027188e-01]\n",
      "  [ 6.33645244e-03 -2.03728869e-01  1.74362823e+00  3.07256557e-02\n",
      "    5.94979134e-02]]\n",
      "\n",
      " [[ 6.33645244e-03 -2.03728869e-01  1.74362823e+00  3.07256557e-02\n",
      "    5.94979134e-02]\n",
      "  [ 5.36989476e-02  6.30707119e+00  8.89662870e-01  3.12147476e-01\n",
      "    1.46637069e-01]]]\n"
     ]
    }
   ],
   "source": [
    "print(\"Mixture weights:\")\n",
    "print(π)\n",
    "print(\"\\nMeans:\")\n",
    "print(μ)\n",
    "print(\"\\nCovariance matrices:\")\n",
    "print(Σ)"
   ]
  }
 ],
 "metadata": {
  "kernelspec": {
   "display_name": "Python 3 (ipykernel)",
   "language": "python",
   "name": "python3"
  },
  "language_info": {
   "codemirror_mode": {
    "name": "ipython",
    "version": 3
   },
   "file_extension": ".py",
   "mimetype": "text/x-python",
   "name": "python",
   "nbconvert_exporter": "python",
   "pygments_lexer": "ipython3",
   "version": "3.11.4"
  }
 },
 "nbformat": 4,
 "nbformat_minor": 5
}
